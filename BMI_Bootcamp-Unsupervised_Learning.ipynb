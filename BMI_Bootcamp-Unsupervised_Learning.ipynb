{
 "cells": [
  {
   "cell_type": "markdown",
   "metadata": {},
   "source": [
    "# BMI ML Bootcamp #2 - Unsupervised Learning"
   ]
  },
  {
   "cell_type": "code",
   "execution_count": null,
   "metadata": {},
   "outputs": [],
   "source": [
    "import numpy as np\n",
    "import matplotlib.pyplot as plt\n",
    "\n",
    "from sklearn.datasets import make_blobs\n",
    "from sklearn.metrics import silhouette_score\n",
    "\n",
    "from sklearn.cluster import AgglomerativeClustering\n",
    "from scipy.cluster.hierarchy import dendrogram"
   ]
  },
  {
   "cell_type": "markdown",
   "metadata": {},
   "source": [
    "### Make blobby dataset\n",
    "\n",
    "Generate a random dataset to cluster. If n_samples is an int and centers is None, 3 clusters are generated. If n_samples is a list of ints, len(n_samples) will be generated, each with the number of points at that index,"
   ]
  },
  {
   "cell_type": "code",
   "execution_count": null,
   "metadata": {},
   "outputs": [],
   "source": [
    "X, y = make_blobs(n_samples = ?, centers = ?)\n",
    "plt.scatter(X[:,0], X[:,1])"
   ]
  },
  {
   "cell_type": "markdown",
   "metadata": {},
   "source": [
    "## k-Means Clustering\n",
    "\n",
    "The skeleton of K-means clustering is implemented for you below. Fill in the blanks (or feel free to erase what I did, if it interferes with your implementation). Do you get the clusters that you could expect? How does changing k impact the clusters that you get?"
   ]
  },
  {
   "cell_type": "code",
   "execution_count": null,
   "metadata": {},
   "outputs": [],
   "source": [
    "def assign_points(centroids, data):\n",
    "    clusters = []\n",
    "    for i in range(len(centroids)):\n",
    "        clusters.append([])\n",
    "        \n",
    "    for point in data:\n",
    "        distances = [np.linalg.norm(point - centroid) for centroid in centroids] \n",
    "        clusters[np.argmin(distances)].append(point)\n",
    "    return clusters"
   ]
  },
  {
   "cell_type": "code",
   "execution_count": null,
   "metadata": {},
   "outputs": [],
   "source": [
    "def run_kmeans(k, data):\n",
    "    \n",
    "    #initialize random centroids\n",
    "    new_centroids = ?\n",
    "    \n",
    "    #starting clusters\n",
    "    clusters = ?\n",
    "    \n",
    "    old_centroids = [np.full((2,), np.nan)] * 3\n",
    "    \n",
    "    iterations = 0\n",
    "    while not np.array_equal(old_centroids,new_centroids): #if the centroids moved\n",
    "        old_centroids = ? #Save old centroids\n",
    "        new_centroids = ? #Calculate new centroids\n",
    "        clusters = ? #assign new clusters\n",
    "        iterations += 1\n",
    "    \n",
    "    # By this point, clusters should be a list of lists\n",
    "    labels = [[sum((point == cpoint).all() for cpoint in cluster) for cluster in clusters].index(1) for point in data]\n",
    "    return labels, iterations\n",
    "    "
   ]
  },
  {
   "cell_type": "markdown",
   "metadata": {},
   "source": [
    "Show a scatter plot of your data, colored by cluster label. Does the labelling look reasonable?"
   ]
  },
  {
   "cell_type": "markdown",
   "metadata": {},
   "source": [
    "Run k-means clustering 10 times. How many iterations does the algorithm take to converge, on average?"
   ]
  },
  {
   "cell_type": "markdown",
   "metadata": {},
   "source": [
    "Now implement k-means++ for the initial cluster selection, then run the k-means++ 10 times. Do you see a decrease in the number of iteractions that the algorithm takes to converge?\n",
    "(https://en.wikipedia.org/wiki/K-means%2B%2B has the k-means initialization pseudocode)"
   ]
  },
  {
   "cell_type": "code",
   "execution_count": null,
   "metadata": {},
   "outputs": [],
   "source": [
    "def run_kmeans_pp(k, data):\n",
    "    \n",
    "    # initialize centroids using k-means approach\n",
    "    new_centroids = ?\n",
    "\n",
    "    # Fill in the rest from your k-means implementation"
   ]
  },
  {
   "cell_type": "code",
   "execution_count": null,
   "metadata": {},
   "outputs": [],
   "source": [
    "Plot the initial k-means centroids and k-means++ centroids. Do the k-means++ centroids look different"
   ]
  },
  {
   "cell_type": "markdown",
   "metadata": {},
   "source": [
    "## Evaluating clusters"
   ]
  },
  {
   "cell_type": "markdown",
   "metadata": {},
   "source": [
    "Run k-means with various values of k, and plot the silhouette score for the resulting clusters. What value of k seems to be the best? Does that match your intution when visually inspecting the data?"
   ]
  },
  {
   "cell_type": "markdown",
   "metadata": {},
   "source": [
    "## Agglomerative clustering"
   ]
  },
  {
   "cell_type": "markdown",
   "metadata": {},
   "source": [
    "Using the scikit-learn agglomerative clustering implementation, cluster your data for a few values of n_clusters. Does this give you similar clusters to those you saw in k-means?"
   ]
  },
  {
   "cell_type": "code",
   "execution_count": null,
   "metadata": {},
   "outputs": [],
   "source": [
    "fig, axes = plt.subplots(1, 4, figsize=(20,5))\n",
    "\n",
    "for ax_index, i in enumerate(range(?)):\n",
    "    labels = AgglomerativeClustering(n_clusters = ?).fit_predict(X)\n",
    "    axes[ax_index].scatter(X[:,0], X[:,1], c = labels)"
   ]
  },
  {
   "cell_type": "code",
   "execution_count": null,
   "metadata": {},
   "outputs": [],
   "source": [
    "#taken from https://scikit-learn.org/stable/auto_examples/cluster/plot_agglomerative_dendrogram.html\n",
    "\n",
    "def plot_dendrogram(model, **kwargs):\n",
    "    # Create linkage matrix and then plot the dendrogram\n",
    "\n",
    "    # create the counts of samples under each node\n",
    "    counts = np.zeros(model.children_.shape[0])\n",
    "    n_samples = len(model.labels_)\n",
    "    for i, merge in enumerate(model.children_):\n",
    "        current_count = 0\n",
    "        for child_idx in merge:\n",
    "            if child_idx < n_samples:\n",
    "                current_count += 1  # leaf node\n",
    "            else:\n",
    "                current_count += counts[child_idx - n_samples]\n",
    "        counts[i] = current_count\n",
    "\n",
    "    linkage_matrix = np.column_stack([model.children_, model.distances_,\n",
    "                                      counts]).astype(float)\n",
    "\n",
    "    # Plot the corresponding dendrogram\n",
    "    dendrogram(linkage_matrix, **kwargs)"
   ]
  },
  {
   "cell_type": "markdown",
   "metadata": {},
   "source": [
    "Using the plot_dendrogram function above, visualize the clusters given a distance threshold of 0 and n_clusters = None. Does this reflect the same clusters that you saw?"
   ]
  },
  {
   "cell_type": "markdown",
   "metadata": {},
   "source": [
    "Scikit-learn has a bunch of other clustering algorithms, including DBScan, nearest neighbor, affinity propagation, etc. This tutorial shows their performance: https://scikit-learn.org/stable/auto_examples/cluster/plot_cluster_comparison.html. Try importing a few and playing around with them. Which are the fastest? Do some fail on globular clusters, like those you generated?"
   ]
  }
 ],
 "metadata": {
  "kernelspec": {
   "display_name": "Python 3 (ml-tutorial)",
   "language": "python",
   "name": "ml-tutorial"
  },
  "language_info": {
   "codemirror_mode": {
    "name": "ipython",
    "version": 3
   },
   "file_extension": ".py",
   "mimetype": "text/x-python",
   "name": "python",
   "nbconvert_exporter": "python",
   "pygments_lexer": "ipython3",
   "version": "3.7.7"
  }
 },
 "nbformat": 4,
 "nbformat_minor": 2
}
